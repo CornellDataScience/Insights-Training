{
 "cells": [
  {
   "cell_type": "code",
   "execution_count": null,
   "metadata": {},
   "outputs": [],
   "source": [
    "import pandas as pd\n",
    "import numpy as np\n",
    "import matplotlib.pyplot as plt\n",
    "%matplotlib inline"
   ]
  },
  {
   "cell_type": "markdown",
   "metadata": {},
   "source": [
    "### Decision Trees"
   ]
  },
  {
   "cell_type": "code",
   "execution_count": null,
   "metadata": {},
   "outputs": [],
   "source": [
    "from sklearn.tree import DecisionTreeClassifier\n",
    "np.random.seed(12345)\n",
    "e = np.asarray([np.insert(x,2,1) for x in np.random.multivariate_normal([3,0],[[2,0],[0,1]], size=35)])\n",
    "n = np.asarray([np.insert(x,2,2) for x in np.random.multivariate_normal([0,3],[[2,0],[0,1]], size=35)])\n",
    "w = np.asarray([np.insert(x,2,3) for x in np.random.multivariate_normal([-3,0],[[2,0],[0,1]], size=35)])\n",
    "s = np.asarray([np.insert(x,2,4) for x in np.random.multivariate_normal([0,-3],[[2,0],[0,1]], size=35)])"
   ]
  },
  {
   "cell_type": "code",
   "execution_count": null,
   "metadata": {},
   "outputs": [],
   "source": [
    "X = np.concatenate((e[:,:-1],n[:,:-1],w[:,:-1],s[:,:-1]))\n",
    "y = np.concatenate((e[:,-1],n[:,-1],w[:,-1],s[:,-1]))"
   ]
  },
  {
   "cell_type": "code",
   "execution_count": null,
   "metadata": {},
   "outputs": [],
   "source": [
    "from sklearn.model_selection import train_test_split\n",
    "X_train, X_test, y_train, y_test = train_test_split(X, y, test_size = 0.40)"
   ]
  },
  {
   "cell_type": "code",
   "execution_count": null,
   "metadata": {},
   "outputs": [],
   "source": [
    "#TODO: Initialize Classifier\n",
    "#TODO: Predict Y values of X_test\n",
    "result = confusion_matrix(y_test, y_pred)\n",
    "result"
   ]
  },
  {
   "cell_type": "code",
   "execution_count": null,
   "metadata": {},
   "outputs": [],
   "source": [
    "wrong_pred = X_test[y_pred != y_test]\n",
    "\n",
    "plt.scatter(X_test[:,0],X_test[:,1], c=y_test)\n",
    "plt.scatter(wrong_pred[:,0],wrong_pred[:,1], marker='x',c='r')\n",
    "plt.vlines(0,-5,5,alpha=0.5);plt.hlines(0,-5,5,alpha=0.5)\n",
    "\n",
    "x_min, x_max = X_train[:, 0].min() - 1, X_train[:, 0].max() + 1\n",
    "y_min, y_max = X_train[:, 1].min() - 1, X_train[:, 1].max() + 1\n",
    "xx, yy = np.meshgrid(np.arange(x_min, x_max, 0.02),np.arange(y_min, y_max, 0.02))\n",
    "Z = classifier.predict(np.c_[xx.ravel(), yy.ravel()])\n",
    "Z = Z.reshape(xx.shape)\n",
    "plt.contour(xx, yy, Z, cmap=plt.cm.Paired)\n",
    "plt.xlabel('x')\n",
    "plt.ylabel('y')\n",
    "plt.show()"
   ]
  },
  {
   "cell_type": "markdown",
   "metadata": {},
   "source": [
    "### kNNs"
   ]
  },
  {
   "cell_type": "code",
   "execution_count": null,
   "metadata": {},
   "outputs": [],
   "source": [
    "plt.scatter(e[:,0], e[:,1], label='e')\n",
    "plt.scatter(n[:,0], n[:,1], label='n')\n",
    "plt.scatter(w[:,0], w[:,1], label='w')\n",
    "plt.scatter(s[:,0], s[:,1], label='s')\n",
    "plt.xlabel('x')\n",
    "plt.ylabel('y')\n",
    "plt.legend()\n",
    "plt.show()"
   ]
  },
  {
   "cell_type": "code",
   "execution_count": null,
   "metadata": {},
   "outputs": [],
   "source": [
    "X = np.concatenate((e[:,:-1],n[:,:-1],w[:,:-1],s[:,:-1]))\n",
    "y = np.concatenate((e[:,-1],n[:,-1],w[:,-1],s[:,-1]))"
   ]
  },
  {
   "cell_type": "code",
   "execution_count": null,
   "metadata": {},
   "outputs": [],
   "source": [
    "from sklearn.model_selection import train_test_split\n",
    "X_train, X_test, y_train, y_test = train_test_split(X, y, test_size = 0.40)\n",
    "\n",
    "from sklearn.neighbors import KNeighborsClassifier\n",
    "#TODO initialize model\n",
    "#TODO train model\n",
    "#TODO predict X_test corresponding y_pred values\n",
    "y_pred"
   ]
  },
  {
   "cell_type": "code",
   "execution_count": null,
   "metadata": {},
   "outputs": [],
   "source": [
    "from sklearn.metrics import classification_report, confusion_matrix, accuracy_score\n",
    "result = confusion_matrix(y_test, y_pred)\n",
    "print(\"Confusion Matrix:\") # Actual on left and Predicted on top\n",
    "print(result)\n",
    "result1 = classification_report(y_test, y_pred)\n",
    "print(\"Classification Report:\",) #Macro is taking each class's accuracy and averaging them all (treated the same weight), micro/weighted is opposite and weights the averages/accuracies\n",
    "print (result1)\n",
    "result2 = accuracy_score(y_test,y_pred)\n",
    "print(\"Accuracy:\",result2) #correct/total"
   ]
  },
  {
   "cell_type": "code",
   "execution_count": null,
   "metadata": {},
   "outputs": [],
   "source": [
    "wrong_pred = X_test[y_pred != y_test]"
   ]
  },
  {
   "cell_type": "code",
   "execution_count": null,
   "metadata": {},
   "outputs": [],
   "source": [
    "wrong_pred = X_test[y_pred != y_test]\n",
    "#plt.scatter(X_train[:,0], X_train[:,1], c=y_train,alpha=0.50)\n",
    "plt.scatter(X_test[:,0],X_test[:,1], c=y_test)\n",
    "plt.scatter(wrong_pred[:,0],wrong_pred[:,1], marker='x',c='r')\n",
    "plt.xlabel('x'); plt.ylabel('y')\n",
    "plt.vlines(0,-5,5,alpha=0.5);plt.hlines(0,-5,5,alpha=0.5)\n",
    "plt.show()"
   ]
  },
  {
   "cell_type": "markdown",
   "metadata": {},
   "source": [
    "Let's see how our accuracy changes as our data becomes more messy"
   ]
  },
  {
   "cell_type": "code",
   "execution_count": null,
   "metadata": {},
   "outputs": [],
   "source": [
    "def knn(neighbors):\n",
    "    classifier = KNeighborsClassifier(n_neighbors = neighbors)\n",
    "    classifier.fit(X_train, y_train)\n",
    "    y_pred = classifier.predict(X_test)\n",
    "    result = accuracy_score(y_test,y_pred)\n",
    "    print(\"Accuracy:\",result) #correct/total\n",
    "    return result"
   ]
  },
  {
   "cell_type": "code",
   "execution_count": null,
   "metadata": {},
   "outputs": [],
   "source": [
    "result = []\n",
    "neigh = []\n",
    "for i in range(1, 35): #Gridsearch\n",
    "    neigh.append(i)\n",
    "    result.append(knn(i)) \n",
    "\n",
    "plt.plot(neigh,result)"
   ]
  },
  {
   "cell_type": "markdown",
   "metadata": {},
   "source": [
    "### Support Vector Machine\n",
    "#### Part 1 (SVM); Artifical data"
   ]
  },
  {
   "cell_type": "markdown",
   "metadata": {},
   "source": [
    "Create artifical data"
   ]
  },
  {
   "cell_type": "code",
   "execution_count": null,
   "metadata": {},
   "outputs": [],
   "source": [
    "data = []\n",
    "for i in range(0,1000):\n",
    "    point = [np.random.uniform(-5,5),np.random.uniform(-5,5)]\n",
    "    if point[0]**2 + point[1]**2 < 5:\n",
    "        point.append(0)\n",
    "    else:\n",
    "        point.append(1)\n",
    "    data.append(point)\n",
    "\n",
    "data = np.asarray(data)"
   ]
  },
  {
   "cell_type": "code",
   "execution_count": null,
   "metadata": {},
   "outputs": [],
   "source": [
    "plt.scatter(data[:,0],data[:,1],c=data[:,2])\n",
    "plt.xlabel('x'); plt.ylabel('y')\n",
    "plt.vlines(0,-5,5,alpha=0.5); plt.hlines(0,-5,5,alpha=0.5)\n",
    "plt.show()"
   ]
  },
  {
   "cell_type": "code",
   "execution_count": null,
   "metadata": {},
   "outputs": [],
   "source": [
    "X = data[:,:-1]\n",
    "y = data[:,-1]"
   ]
  },
  {
   "cell_type": "code",
   "execution_count": null,
   "metadata": {},
   "outputs": [],
   "source": [
    "from sklearn.svm import SVC\n",
    "#TODO: train_test_split\n",
    "#TODO: Initialize model with RBF kernel\n",
    "#TODO: Train\n",
    "#TODO: Predict y_pred from X_test"
   ]
  },
  {
   "cell_type": "code",
   "execution_count": null,
   "metadata": {},
   "outputs": [],
   "source": [
    "result = confusion_matrix(y_test, y_pred)\n",
    "print(\"Confusion Matrix:\")\n",
    "print(result)\n",
    "result1 = classification_report(y_test, y_pred)\n",
    "print(\"Classification Report:\",)\n",
    "print (result1)\n",
    "result2 = accuracy_score(y_test,y_pred)\n",
    "print(\"Accuracy:\",result2)"
   ]
  },
  {
   "cell_type": "markdown",
   "metadata": {},
   "source": [
    "#### Part 2 (SVM); real dataset\n",
    "\n",
    "We'll be using this dataset: https://www.kaggle.com/akram24/social-network-ads \n",
    "and the question we'll be tackling is how well we can predict whether someone purchased an item based on their Age and EstimatedSalary"
   ]
  },
  {
   "cell_type": "code",
   "execution_count": null,
   "metadata": {},
   "outputs": [],
   "source": [
    "df = pd.read_csv('Social_Network_Ads.csv')"
   ]
  },
  {
   "cell_type": "code",
   "execution_count": null,
   "metadata": {},
   "outputs": [],
   "source": [
    "df.head()"
   ]
  },
  {
   "cell_type": "code",
   "execution_count": null,
   "metadata": {},
   "outputs": [],
   "source": [
    "plt.scatter(df.iloc[:,2], df.iloc[:,3],c=df.iloc[:,-1])\n",
    "plt.xlabel('Age')\n",
    "plt.ylabel('EstimatedSalary')\n",
    "plt.show()"
   ]
  },
  {
   "cell_type": "code",
   "execution_count": null,
   "metadata": {},
   "outputs": [],
   "source": [
    "X = df.iloc[:, [2, 3]]\n",
    "y = df.iloc[:, 4]"
   ]
  },
  {
   "cell_type": "code",
   "execution_count": null,
   "metadata": {},
   "outputs": [],
   "source": [
    "#TODO Train_test_split"
   ]
  },
  {
   "cell_type": "code",
   "execution_count": null,
   "metadata": {},
   "outputs": [],
   "source": [
    "#TODO Model Initialize\n",
    "#TODO Model Fit\n",
    "#TODO Model Predict"
   ]
  },
  {
   "cell_type": "code",
   "execution_count": null,
   "metadata": {},
   "outputs": [],
   "source": [
    "result = confusion_matrix(y_test, y_pred)\n",
    "print(\"Confusion Matrix:\")\n",
    "print(result)\n",
    "\n",
    "accuracy = accuracy_score(y_test,y_pred)\n",
    "print(\"Accuracy:\",accuracy)"
   ]
  },
  {
   "cell_type": "code",
   "execution_count": null,
   "metadata": {},
   "outputs": [],
   "source": [
    "kernels = ['linear','poly', 'rbf', 'sigmoid']\n",
    "accuracies = []\n",
    "for k in kernels:\n",
    "    classifier = SVC(kernel = k)\n",
    "    classifier.fit(X_train, y_train)\n",
    "\n",
    "    y_pred = classifier.predict(X_test)\n",
    "    accuracies.append(accuracy_score(y_test,y_pred))"
   ]
  },
  {
   "cell_type": "code",
   "execution_count": null,
   "metadata": {},
   "outputs": [],
   "source": [
    "plt.bar(kernels,accuracies)\n",
    "plt.xlabel('Kernel');plt.ylabel('Accuracy')\n",
    "plt.show()"
   ]
  },
  {
   "cell_type": "markdown",
   "metadata": {},
   "source": [
    "Linear kernel does well! -- more \"complex\" transformation does not always entail better results! (Although accuracy is not the only metric, as evidenced by the multitude of scores found in the \"Classification Report\") "
   ]
  },
  {
   "cell_type": "code",
   "execution_count": null,
   "metadata": {},
   "outputs": [],
   "source": []
  }
 ],
 "metadata": {
  "kernelspec": {
   "display_name": "Python 3",
   "language": "python",
   "name": "python3"
  },
  "language_info": {
   "codemirror_mode": {
    "name": "ipython",
    "version": 3
   },
   "file_extension": ".py",
   "mimetype": "text/x-python",
   "name": "python",
   "nbconvert_exporter": "python",
   "pygments_lexer": "ipython3",
   "version": "3.8.1"
  }
 },
 "nbformat": 4,
 "nbformat_minor": 2
}
