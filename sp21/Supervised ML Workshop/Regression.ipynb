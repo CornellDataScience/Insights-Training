{
 "cells": [
  {
   "cell_type": "code",
   "execution_count": 2,
   "metadata": {},
   "outputs": [],
   "source": [
    "import numpy as np\n",
    "import pandas as pd\n",
    "from sklearn.model_selection import train_test_split\n",
    "from sklearn.linear_model import LinearRegression,Ridge,Lasso,SGDRegressor,LogisticRegression\n",
    "import matplotlib.pyplot as plt\n",
    "import seaborn as sns\n",
    "from sklearn.model_selection import KFold"
   ]
  },
  {
   "cell_type": "markdown",
   "metadata": {},
   "source": [
    "## Regressions and the impact of Lambda"
   ]
  },
  {
   "cell_type": "code",
   "execution_count": 6,
   "metadata": {},
   "outputs": [
    {
     "data": {
      "text/html": [
       "<div>\n",
       "<style scoped>\n",
       "    .dataframe tbody tr th:only-of-type {\n",
       "        vertical-align: middle;\n",
       "    }\n",
       "\n",
       "    .dataframe tbody tr th {\n",
       "        vertical-align: top;\n",
       "    }\n",
       "\n",
       "    .dataframe thead th {\n",
       "        text-align: right;\n",
       "    }\n",
       "</style>\n",
       "<table border=\"1\" class=\"dataframe\">\n",
       "  <thead>\n",
       "    <tr style=\"text-align: right;\">\n",
       "      <th></th>\n",
       "      <th>X</th>\n",
       "      <th>Y</th>\n",
       "    </tr>\n",
       "  </thead>\n",
       "  <tbody>\n",
       "    <tr>\n",
       "      <th>0</th>\n",
       "      <td>0.618565</td>\n",
       "      <td>-0.390420</td>\n",
       "    </tr>\n",
       "    <tr>\n",
       "      <th>1</th>\n",
       "      <td>0.882738</td>\n",
       "      <td>-1.144883</td>\n",
       "    </tr>\n",
       "    <tr>\n",
       "      <th>2</th>\n",
       "      <td>0.810349</td>\n",
       "      <td>-0.731220</td>\n",
       "    </tr>\n",
       "    <tr>\n",
       "      <th>3</th>\n",
       "      <td>0.708156</td>\n",
       "      <td>-0.884353</td>\n",
       "    </tr>\n",
       "    <tr>\n",
       "      <th>4</th>\n",
       "      <td>0.777921</td>\n",
       "      <td>-0.423120</td>\n",
       "    </tr>\n",
       "    <tr>\n",
       "      <th>5</th>\n",
       "      <td>0.652228</td>\n",
       "      <td>0.212650</td>\n",
       "    </tr>\n",
       "    <tr>\n",
       "      <th>6</th>\n",
       "      <td>0.658577</td>\n",
       "      <td>0.030360</td>\n",
       "    </tr>\n",
       "    <tr>\n",
       "      <th>7</th>\n",
       "      <td>0.041528</td>\n",
       "      <td>1.524871</td>\n",
       "    </tr>\n",
       "    <tr>\n",
       "      <th>8</th>\n",
       "      <td>0.349068</td>\n",
       "      <td>1.080555</td>\n",
       "    </tr>\n",
       "    <tr>\n",
       "      <th>9</th>\n",
       "      <td>0.707169</td>\n",
       "      <td>-0.121067</td>\n",
       "    </tr>\n",
       "    <tr>\n",
       "      <th>10</th>\n",
       "      <td>0.145075</td>\n",
       "      <td>1.120374</td>\n",
       "    </tr>\n",
       "    <tr>\n",
       "      <th>11</th>\n",
       "      <td>0.519571</td>\n",
       "      <td>-0.102407</td>\n",
       "    </tr>\n",
       "    <tr>\n",
       "      <th>12</th>\n",
       "      <td>0.248981</td>\n",
       "      <td>1.647883</td>\n",
       "    </tr>\n",
       "    <tr>\n",
       "      <th>13</th>\n",
       "      <td>0.285838</td>\n",
       "      <td>0.837975</td>\n",
       "    </tr>\n",
       "    <tr>\n",
       "      <th>14</th>\n",
       "      <td>0.229633</td>\n",
       "      <td>1.227903</td>\n",
       "    </tr>\n",
       "    <tr>\n",
       "      <th>15</th>\n",
       "      <td>0.924702</td>\n",
       "      <td>-1.737454</td>\n",
       "    </tr>\n",
       "    <tr>\n",
       "      <th>16</th>\n",
       "      <td>0.207643</td>\n",
       "      <td>1.180827</td>\n",
       "    </tr>\n",
       "    <tr>\n",
       "      <th>17</th>\n",
       "      <td>0.541848</td>\n",
       "      <td>0.663274</td>\n",
       "    </tr>\n",
       "    <tr>\n",
       "      <th>18</th>\n",
       "      <td>0.500197</td>\n",
       "      <td>0.869217</td>\n",
       "    </tr>\n",
       "    <tr>\n",
       "      <th>19</th>\n",
       "      <td>0.138869</td>\n",
       "      <td>1.266509</td>\n",
       "    </tr>\n",
       "    <tr>\n",
       "      <th>20</th>\n",
       "      <td>0.708403</td>\n",
       "      <td>-0.591857</td>\n",
       "    </tr>\n",
       "    <tr>\n",
       "      <th>21</th>\n",
       "      <td>0.356159</td>\n",
       "      <td>0.226992</td>\n",
       "    </tr>\n",
       "    <tr>\n",
       "      <th>22</th>\n",
       "      <td>0.204312</td>\n",
       "      <td>1.094340</td>\n",
       "    </tr>\n",
       "    <tr>\n",
       "      <th>23</th>\n",
       "      <td>0.186957</td>\n",
       "      <td>1.248464</td>\n",
       "    </tr>\n",
       "    <tr>\n",
       "      <th>24</th>\n",
       "      <td>0.026578</td>\n",
       "      <td>1.760129</td>\n",
       "    </tr>\n",
       "    <tr>\n",
       "      <th>25</th>\n",
       "      <td>0.666676</td>\n",
       "      <td>-0.168565</td>\n",
       "    </tr>\n",
       "    <tr>\n",
       "      <th>26</th>\n",
       "      <td>0.874907</td>\n",
       "      <td>-1.629322</td>\n",
       "    </tr>\n",
       "    <tr>\n",
       "      <th>27</th>\n",
       "      <td>0.327842</td>\n",
       "      <td>0.788752</td>\n",
       "    </tr>\n",
       "    <tr>\n",
       "      <th>28</th>\n",
       "      <td>0.760332</td>\n",
       "      <td>-0.617401</td>\n",
       "    </tr>\n",
       "    <tr>\n",
       "      <th>29</th>\n",
       "      <td>0.615601</td>\n",
       "      <td>0.256234</td>\n",
       "    </tr>\n",
       "    <tr>\n",
       "      <th>30</th>\n",
       "      <td>0.409572</td>\n",
       "      <td>0.807871</td>\n",
       "    </tr>\n",
       "    <tr>\n",
       "      <th>31</th>\n",
       "      <td>0.209390</td>\n",
       "      <td>0.549907</td>\n",
       "    </tr>\n",
       "    <tr>\n",
       "      <th>32</th>\n",
       "      <td>0.979493</td>\n",
       "      <td>-1.786110</td>\n",
       "    </tr>\n",
       "    <tr>\n",
       "      <th>33</th>\n",
       "      <td>0.984009</td>\n",
       "      <td>-0.888264</td>\n",
       "    </tr>\n",
       "    <tr>\n",
       "      <th>34</th>\n",
       "      <td>0.939018</td>\n",
       "      <td>-1.247311</td>\n",
       "    </tr>\n",
       "    <tr>\n",
       "      <th>35</th>\n",
       "      <td>0.051179</td>\n",
       "      <td>1.822564</td>\n",
       "    </tr>\n",
       "    <tr>\n",
       "      <th>36</th>\n",
       "      <td>0.718336</td>\n",
       "      <td>-0.271396</td>\n",
       "    </tr>\n",
       "    <tr>\n",
       "      <th>37</th>\n",
       "      <td>0.676266</td>\n",
       "      <td>-0.365545</td>\n",
       "    </tr>\n",
       "    <tr>\n",
       "      <th>38</th>\n",
       "      <td>0.326122</td>\n",
       "      <td>0.409740</td>\n",
       "    </tr>\n",
       "    <tr>\n",
       "      <th>39</th>\n",
       "      <td>0.410162</td>\n",
       "      <td>0.290421</td>\n",
       "    </tr>\n",
       "    <tr>\n",
       "      <th>40</th>\n",
       "      <td>0.639297</td>\n",
       "      <td>-0.566665</td>\n",
       "    </tr>\n",
       "    <tr>\n",
       "      <th>41</th>\n",
       "      <td>0.356368</td>\n",
       "      <td>0.970914</td>\n",
       "    </tr>\n",
       "    <tr>\n",
       "      <th>42</th>\n",
       "      <td>0.060723</td>\n",
       "      <td>1.896713</td>\n",
       "    </tr>\n",
       "    <tr>\n",
       "      <th>43</th>\n",
       "      <td>0.580802</td>\n",
       "      <td>0.517808</td>\n",
       "    </tr>\n",
       "    <tr>\n",
       "      <th>44</th>\n",
       "      <td>0.194137</td>\n",
       "      <td>1.014089</td>\n",
       "    </tr>\n",
       "    <tr>\n",
       "      <th>45</th>\n",
       "      <td>0.206480</td>\n",
       "      <td>1.200987</td>\n",
       "    </tr>\n",
       "    <tr>\n",
       "      <th>46</th>\n",
       "      <td>0.022703</td>\n",
       "      <td>1.856071</td>\n",
       "    </tr>\n",
       "    <tr>\n",
       "      <th>47</th>\n",
       "      <td>0.036073</td>\n",
       "      <td>1.496116</td>\n",
       "    </tr>\n",
       "    <tr>\n",
       "      <th>48</th>\n",
       "      <td>0.244183</td>\n",
       "      <td>0.260433</td>\n",
       "    </tr>\n",
       "    <tr>\n",
       "      <th>49</th>\n",
       "      <td>0.997729</td>\n",
       "      <td>-1.279005</td>\n",
       "    </tr>\n",
       "    <tr>\n",
       "      <th>50</th>\n",
       "      <td>0.867353</td>\n",
       "      <td>-0.504130</td>\n",
       "    </tr>\n",
       "    <tr>\n",
       "      <th>51</th>\n",
       "      <td>0.501408</td>\n",
       "      <td>0.418756</td>\n",
       "    </tr>\n",
       "    <tr>\n",
       "      <th>52</th>\n",
       "      <td>0.862664</td>\n",
       "      <td>-1.372535</td>\n",
       "    </tr>\n",
       "    <tr>\n",
       "      <th>53</th>\n",
       "      <td>0.694773</td>\n",
       "      <td>-0.295006</td>\n",
       "    </tr>\n",
       "    <tr>\n",
       "      <th>54</th>\n",
       "      <td>0.740222</td>\n",
       "      <td>0.058622</td>\n",
       "    </tr>\n",
       "    <tr>\n",
       "      <th>55</th>\n",
       "      <td>0.023120</td>\n",
       "      <td>2.000706</td>\n",
       "    </tr>\n",
       "    <tr>\n",
       "      <th>56</th>\n",
       "      <td>0.988740</td>\n",
       "      <td>-2.248975</td>\n",
       "    </tr>\n",
       "    <tr>\n",
       "      <th>57</th>\n",
       "      <td>0.254871</td>\n",
       "      <td>0.787813</td>\n",
       "    </tr>\n",
       "    <tr>\n",
       "      <th>58</th>\n",
       "      <td>0.005522</td>\n",
       "      <td>1.291923</td>\n",
       "    </tr>\n",
       "    <tr>\n",
       "      <th>59</th>\n",
       "      <td>0.886383</td>\n",
       "      <td>-0.719046</td>\n",
       "    </tr>\n",
       "  </tbody>\n",
       "</table>\n",
       "</div>"
      ],
      "text/plain": [
       "           X         Y\n",
       "0   0.618565 -0.390420\n",
       "1   0.882738 -1.144883\n",
       "2   0.810349 -0.731220\n",
       "3   0.708156 -0.884353\n",
       "4   0.777921 -0.423120\n",
       "5   0.652228  0.212650\n",
       "6   0.658577  0.030360\n",
       "7   0.041528  1.524871\n",
       "8   0.349068  1.080555\n",
       "9   0.707169 -0.121067\n",
       "10  0.145075  1.120374\n",
       "11  0.519571 -0.102407\n",
       "12  0.248981  1.647883\n",
       "13  0.285838  0.837975\n",
       "14  0.229633  1.227903\n",
       "15  0.924702 -1.737454\n",
       "16  0.207643  1.180827\n",
       "17  0.541848  0.663274\n",
       "18  0.500197  0.869217\n",
       "19  0.138869  1.266509\n",
       "20  0.708403 -0.591857\n",
       "21  0.356159  0.226992\n",
       "22  0.204312  1.094340\n",
       "23  0.186957  1.248464\n",
       "24  0.026578  1.760129\n",
       "25  0.666676 -0.168565\n",
       "26  0.874907 -1.629322\n",
       "27  0.327842  0.788752\n",
       "28  0.760332 -0.617401\n",
       "29  0.615601  0.256234\n",
       "30  0.409572  0.807871\n",
       "31  0.209390  0.549907\n",
       "32  0.979493 -1.786110\n",
       "33  0.984009 -0.888264\n",
       "34  0.939018 -1.247311\n",
       "35  0.051179  1.822564\n",
       "36  0.718336 -0.271396\n",
       "37  0.676266 -0.365545\n",
       "38  0.326122  0.409740\n",
       "39  0.410162  0.290421\n",
       "40  0.639297 -0.566665\n",
       "41  0.356368  0.970914\n",
       "42  0.060723  1.896713\n",
       "43  0.580802  0.517808\n",
       "44  0.194137  1.014089\n",
       "45  0.206480  1.200987\n",
       "46  0.022703  1.856071\n",
       "47  0.036073  1.496116\n",
       "48  0.244183  0.260433\n",
       "49  0.997729 -1.279005\n",
       "50  0.867353 -0.504130\n",
       "51  0.501408  0.418756\n",
       "52  0.862664 -1.372535\n",
       "53  0.694773 -0.295006\n",
       "54  0.740222  0.058622\n",
       "55  0.023120  2.000706\n",
       "56  0.988740 -2.248975\n",
       "57  0.254871  0.787813\n",
       "58  0.005522  1.291923\n",
       "59  0.886383 -0.719046"
      ]
     },
     "execution_count": 6,
     "metadata": {},
     "output_type": "execute_result"
    }
   ],
   "source": [
    "#Reproduceability\n",
    "np.random.seed(98823)\n",
    "#number of points and randomly generate points\n",
    "n=60\n",
    "x=np.array([np.random.random() for i in range(n)])\n",
    "#True Y model with noise\n",
    "y=[-3.14159*a + 1.789 for a in x]\n",
    "noise = np.random.normal(0,1/3,60)\n",
    "y+=noise\n",
    "df=pd.DataFrame({'X':x,'Y':y})\n",
    "x=x.reshape(-1,1)\n",
    "df"
   ]
  },
  {
   "cell_type": "code",
   "execution_count": 44,
   "metadata": {},
   "outputs": [
    {
     "data": {
      "text/plain": [
       "Text(0, 0.5, 'Y')"
      ]
     },
     "execution_count": 44,
     "metadata": {},
     "output_type": "execute_result"
    },
    {
     "data": {
      "image/png": "[encoded data removed]",
      "text/plain": [
       "<Figure size 864x720 with 1 Axes>"
      ]
     },
     "metadata": {
      "needs_background": "light"
     },
     "output_type": "display_data"
    }
   ],
   "source": [
    "plt.scatter(df['X'], y, c='r')\n",
    "plt.xlabel('X')\n",
    "plt.ylabel('Y')"
   ]
  },
  {
   "cell_type": "code",
   "execution_count": 11,
   "metadata": {},
   "outputs": [
    {
     "name": "stdout",
     "output_type": "stream",
     "text": [
      "0.8795138171044071\n"
     ]
    },
    {
     "data": {
      "text/plain": [
       "Text(0, 0.5, 'Y')"
      ]
     },
     "execution_count": 11,
     "metadata": {},
     "output_type": "execute_result"
    },
    {
     "data": {
      "image/png": "[encoded data removed]",
      "text/plain": [
       "<Figure size 432x288 with 1 Axes>"
      ]
     },
     "metadata": {
      "needs_background": "light"
     },
     "output_type": "display_data"
    }
   ],
   "source": [
    "#Linear Regression process\n",
    "least_squares = LinearRegression()\n",
    "least_squares.fit(x, y)\n",
    "r_sqrd = least_squares.score(x, y)\n",
    "print(r_sqrd)\n",
    "plt.scatter(x, y, c='r')\n",
    "#Test points for regression to predict on\n",
    "x_test = np.array([np.random.random() for i in range(200)])\n",
    "x_test = x_test.reshape(-1,1)\n",
    "y_pred=least_squares.predict(x_test)\n",
    "\n",
    "plt.plot(x_test,y_pred)\n",
    "plt.xlabel('X')\n",
    "plt.ylabel('Y')"
   ]
  },
  {
   "cell_type": "code",
   "execution_count": 16,
   "metadata": {},
   "outputs": [
    {
     "name": "stdout",
     "output_type": "stream",
     "text": [
      "0.8795138171044071\n",
      "[-3.19354995]\n",
      "0.8737624143620336\n",
      "[-2.93530058]\n",
      "0.8598218038014851\n",
      "[-2.71569351]\n",
      "0.6868544194973105\n",
      "[-1.69887251]\n"
     ]
    },
    {
     "data": {
      "image/png": "[encoded data removed]",
      "text/plain": [
       "<Figure size 432x288 with 4 Axes>"
      ]
     },
     "metadata": {
      "needs_background": "light"
     },
     "output_type": "display_data"
    }
   ],
   "source": [
    "#subplots\n",
    "fig, ((ax1, ax2), (ax3, ax4)) = plt.subplots(2, 2)\n",
    "ax1.scatter(x, y, c='r')\n",
    "ax2.scatter(x, y, c='r')\n",
    "ax3.scatter(x, y, c='r')\n",
    "ax4.scatter(x, y, c='r')\n",
    "fig.suptitle('Ridge Lam values')\n",
    "#example lambda values, normally would gridsearch through a range\n",
    "lams = [0, 0.5, 1, 5]\n",
    "def ridgeplot(axs, i):\n",
    "    ridge = Ridge(alpha = i)\n",
    "    ridge.fit(x, y)\n",
    "    r_sqrd = ridge.score(x, y)\n",
    "    print(r_sqrd)\n",
    "    print(ridge.coef_)\n",
    "    x_test = np.array([np.random.random() for i in range(200)])\n",
    "    x_test = x_test.reshape(-1,1)\n",
    "    y_pred= ridge.predict(x_test)\n",
    "    axs.plot(x_test,y_pred)\n",
    "axes = [ax1, ax2, ax3, ax4]\n",
    "for i in range(4):\n",
    "    ridgeplot(axes[i], lams[i])\n",
    "\n",
    "\n"
   ]
  },
  {
   "cell_type": "code",
   "execution_count": 15,
   "metadata": {},
   "outputs": [
    {
     "name": "stderr",
     "output_type": "stream",
     "text": [
      "<ipython-input-15-7578a0d91a84>:10: UserWarning: With alpha=0, this algorithm does not converge well. You are advised to use the LinearRegression estimator\n",
      "  lasso.fit(x, y)\n",
      "/Library/Frameworks/Python.framework/Versions/3.8/lib/python3.8/site-packages/sklearn/linear_model/_coordinate_descent.py:529: UserWarning: Coordinate descent with no regularization may lead to unexpected results and is discouraged.\n",
      "  model = cd_fast.enet_coordinate_descent(\n",
      "/Library/Frameworks/Python.framework/Versions/3.8/lib/python3.8/site-packages/sklearn/linear_model/_coordinate_descent.py:529: ConvergenceWarning: Objective did not converge. You might want to increase the number of iterations. Duality gap: 3.970044037089834, tolerance: 0.006590040354303648\n",
      "  model = cd_fast.enet_coordinate_descent(\n"
     ]
    },
    {
     "name": "stdout",
     "output_type": "stream",
     "text": [
      "0.8795138171044071\n",
      "[-3.19354995]\n",
      "0.8554828570940759\n",
      "[-2.66566663]\n",
      "0.783389977063082\n",
      "[-2.13778331]\n",
      "0.4950184569391065\n",
      "[-1.08201666]\n"
     ]
    },
    {
     "data": {
      "image/png": "[encoded data removed]",
      "text/plain": [
       "<Figure size 432x288 with 4 Axes>"
      ]
     },
     "metadata": {
      "needs_background": "light"
     },
     "output_type": "display_data"
    }
   ],
   "source": [
    "fig, ((ax1, ax2), (ax3, ax4)) = plt.subplots(2, 2)\n",
    "ax1.scatter(x, y, c='r')\n",
    "ax2.scatter(x, y, c='r')\n",
    "ax3.scatter(x, y, c='r')\n",
    "ax4.scatter(x, y, c='r')\n",
    "fig.suptitle('Lasso Lam values')\n",
    "lams = [0, 0.05, 0.1, 0.2]\n",
    "def lassoplot(axs, i):\n",
    "    lasso = Lasso(alpha = i)\n",
    "    lasso.fit(x, y)\n",
    "    r_sqrd = lasso.score(x, y)\n",
    "    print(r_sqrd)\n",
    "    print(lasso.coef_)\n",
    "    x_test = np.array([np.random.random() for i in range(200)])\n",
    "    x_test = x_test.reshape(-1,1)\n",
    "    y_pred= lasso.predict(x_test)\n",
    "    axs.plot(x_test,y_pred)\n",
    "axes = [ax1, ax2, ax3, ax4]\n",
    "for i in range(4):\n",
    "    lassoplot(axes[i], lams[i])\n",
    "    \n"
   ]
  },
  {
   "cell_type": "markdown",
   "metadata": {},
   "source": [
    "## Logistic Regression Classifying MNIST\n",
    "* Thanks for the tutorial: https://towardsdatascience.com/logistic-regression-using-python-sklearn-numpy-mnist-handwriting-recognition-matplotlib-a6b31e2b166a\n",
    "* Concise explanation of multi class classification https://machinelearningmastery.com/multinomial-logistic-regression-with-python/"
   ]
  },
  {
   "cell_type": "code",
   "execution_count": 72,
   "metadata": {},
   "outputs": [
    {
     "name": "stdout",
     "output_type": "stream",
     "text": [
      "Image Data Shape (1797, 64)\n",
      "Label Data Shape (1797,)\n"
     ]
    }
   ],
   "source": [
    "from sklearn.datasets import load_digits\n",
    "digits = load_digits()\n",
    "# Print to show there are 1797 images (8 by 8 images for a dimensionality of 64)\n",
    "print(\"Image Data Shape\" , digits.data.shape)\n",
    "# Print to show there are 1797 labels (integers from 0–9)\n",
    "print(\"Label Data Shape\", digits.target.shape)"
   ]
  },
  {
   "cell_type": "code",
   "execution_count": 73,
   "metadata": {},
   "outputs": [
    {
     "data": {
      "image/png": "[encoded data removed]",
      "text/plain": [
       "<Figure size 1440x288 with 5 Axes>"
      ]
     },
     "metadata": {
      "needs_background": "light"
     },
     "output_type": "display_data"
    }
   ],
   "source": [
    "plt.figure(figsize=(20,4))\n",
    "for index, (image, label) in enumerate(zip(digits.data[0:5], digits.target[0:5])):\n",
    "    plt.subplot(1, 5, index + 1)\n",
    "    plt.imshow(np.reshape(image, (8,8)), cmap=plt.cm.gray)\n",
    "    plt.title('Training: %i\\n' % label, fontsize = 20)"
   ]
  },
  {
   "cell_type": "code",
   "execution_count": 85,
   "metadata": {},
   "outputs": [
    {
     "name": "stderr",
     "output_type": "stream",
     "text": [
      "/Library/Frameworks/Python.framework/Versions/3.8/lib/python3.8/site-packages/sklearn/linear_model/_logistic.py:762: ConvergenceWarning: lbfgs failed to converge (status=1):\n",
      "STOP: TOTAL NO. of ITERATIONS REACHED LIMIT.\n",
      "\n",
      "Increase the number of iterations (max_iter) or scale the data as shown in:\n",
      "    https://scikit-learn.org/stable/modules/preprocessing.html\n",
      "Please also refer to the documentation for alternative solver options:\n",
      "    https://scikit-learn.org/stable/modules/linear_model.html#logistic-regression\n",
      "  n_iter_i = _check_optimize_result(\n"
     ]
    },
    {
     "data": {
      "text/plain": [
       "array([2])"
      ]
     },
     "execution_count": 85,
     "metadata": {},
     "output_type": "execute_result"
    }
   ],
   "source": [
    "x_train, x_test, y_train, y_test = train_test_split(digits.data, digits.target, test_size=0.25, random_state=0)\n",
    "logreg = LogisticRegression()\n",
    "\n",
    "logreg.fit(x_train, y_train)\n",
    "logreg.predict(x_test[0].reshape(1,-1))\n"
   ]
  },
  {
   "cell_type": "code",
   "execution_count": 86,
   "metadata": {},
   "outputs": [
    {
     "data": {
      "text/plain": [
       "array([2, 8, 2, 6, 6, 7, 1, 9, 8, 5])"
      ]
     },
     "execution_count": 86,
     "metadata": {},
     "output_type": "execute_result"
    }
   ],
   "source": [
    "logreg.predict(x_test[0:10])\n"
   ]
  },
  {
   "cell_type": "code",
   "execution_count": 87,
   "metadata": {},
   "outputs": [
    {
     "data": {
      "text/plain": [
       "0.9511111111111111"
      ]
     },
     "execution_count": 87,
     "metadata": {},
     "output_type": "execute_result"
    }
   ],
   "source": [
    "score = logreg.score(x_test, y_test)\n",
    "score"
   ]
  },
  {
   "cell_type": "code",
   "execution_count": 81,
   "metadata": {},
   "outputs": [
    {
     "data": {
      "image/png": "[encoded data removed]",
      "text/plain": [
       "<Figure size 648x648 with 2 Axes>"
      ]
     },
     "metadata": {
      "needs_background": "light"
     },
     "output_type": "display_data"
    }
   ],
   "source": [
    "import matplotlib.pyplot as plt\n",
    "import seaborn as sns\n",
    "from sklearn import metrics\n",
    "predictions = logreg.predict(x_test)\n",
    "cm = metrics.confusion_matrix(y_test, predictions)\n",
    "\n",
    "plt.figure(figsize=(9,9))\n",
    "sns.heatmap(cm, annot=True, fmt=\".3f\", linewidths=.5, square = True, cmap = 'Blues_r');\n",
    "plt.ylabel('Actual label');\n",
    "plt.xlabel('Predicted label');\n",
    "all_sample_title = 'Accuracy Score: {0}'.format(score)\n",
    "plt.title(all_sample_title, size = 15);"
   ]
  },
  {
   "cell_type": "code",
   "execution_count": null,
   "metadata": {},
   "outputs": [],
   "source": []
  }
 ],
 "metadata": {
  "kernelspec": {
   "display_name": "Python 3",
   "language": "python",
   "name": "python3"
  },
  "language_info": {
   "codemirror_mode": {
    "name": "ipython",
    "version": 3
   },
   "file_extension": ".py",
   "mimetype": "text/x-python",
   "name": "python",
   "nbconvert_exporter": "python",
   "pygments_lexer": "ipython3",
   "version": "3.8.1"
  }
 },
 "nbformat": 4,
 "nbformat_minor": 4
}
